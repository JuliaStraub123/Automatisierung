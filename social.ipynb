{
 "cells": [
  {
   "cell_type": "markdown",
   "id": "26b62862",
   "metadata": {},
   "source": [
    "Source Code for **Automated Caclulation of Social Indicators**"
   ]
  },
  {
   "cell_type": "markdown",
   "id": "9ddac76e",
   "metadata": {},
   "source": [
    "Import libraries"
   ]
  },
  {
   "cell_type": "code",
   "execution_count": 32,
   "id": "eedcd145",
   "metadata": {},
   "outputs": [],
   "source": [
    "import json\n",
    "import pandas as pd"
   ]
  },
  {
   "cell_type": "markdown",
   "id": "dbe37634",
   "metadata": {},
   "source": [
    "Load data structure with WWTP data"
   ]
  },
  {
   "cell_type": "code",
   "execution_count": 66,
   "id": "d086cb2c",
   "metadata": {},
   "outputs": [],
   "source": [
    "with open('data_structure.json','r') as main:\n",
    "    wwtp_data = json.load(main)"
   ]
  },
  {
   "cell_type": "markdown",
   "id": "c1a01f05",
   "metadata": {},
   "source": [
    "**W2 suitability of wastewater treatment**"
   ]
  },
  {
   "cell_type": "markdown",
   "id": "37629a11",
   "metadata": {},
   "source": [
    "Calculate W2 absolute and in percent, unify W2"
   ]
  },
  {
   "cell_type": "code",
   "execution_count": 3,
   "id": "cc361097",
   "metadata": {},
   "outputs": [],
   "source": [
    "w2_abs = abs(wwtp_data['plant']['size']['value'] - wwtp_data['influent']['load'])\n",
    "w2_percent = w2_abs / wwtp_data['plant']['size']['value'] * 100\n",
    "w2 = 100 - w2_percent"
   ]
  },
  {
   "cell_type": "markdown",
   "id": "86623bbc",
   "metadata": {},
   "source": [
    "Show value of **W2** [%]"
   ]
  },
  {
   "cell_type": "code",
   "execution_count": 1,
   "id": "31abff1a",
   "metadata": {},
   "outputs": [],
   "source": [
    "w2"
   ]
  },
  {
   "cell_type": "markdown",
   "id": "ad7fbab2",
   "metadata": {},
   "source": [
    "**W3 electricity self-sufficiency**"
   ]
  },
  {
   "cell_type": "code",
   "execution_count": 5,
   "id": "39a05cd5",
   "metadata": {},
   "outputs": [],
   "source": [
    "electricity_self = wwtp_data['energy']['electricity_production_from_sewage_gas']['value'] + \\\n",
    "wwtp_data['energy']['electricity_production_from_PV']['value']\n",
    "\n",
    "electricity_grid = wwtp_data['energy']['electricity_from_grid']['value'] + electricity_self\n",
    "\n",
    "w3 = electricity_self / electricity_grid * 100"
   ]
  },
  {
   "cell_type": "markdown",
   "id": "a088b1a9",
   "metadata": {},
   "source": [
    "Show value of **W3** [%]"
   ]
  },
  {
   "cell_type": "code",
   "execution_count": 2,
   "id": "40c61e45",
   "metadata": {},
   "outputs": [],
   "source": [
    "w3"
   ]
  },
  {
   "cell_type": "markdown",
   "id": "21defb10",
   "metadata": {},
   "source": [
    "**E food supply through phosphorus recycling**"
   ]
  },
  {
   "cell_type": "markdown",
   "id": "7c395e64",
   "metadata": {},
   "source": [
    "Function: Calculate fraction of each sludge disposal path and write to list"
   ]
  },
  {
   "cell_type": "code",
   "execution_count": 7,
   "id": "63f650fd",
   "metadata": {},
   "outputs": [],
   "source": [
    "def disposal_path_percentage_calc(disposal_dict):\n",
    "\n",
    "    path_sum = 0\n",
    "    path_list = []\n",
    "\n",
    "    for key in disposal_dict.keys():\n",
    "        if key == 'unit':\n",
    "            continue\n",
    "        if key == 'location':\n",
    "            break\n",
    "\n",
    "        \n",
    "        path_sum = path_sum + wwtp_data['sludge disposal'][key]\n",
    "\n",
    "        path_list.append(wwtp_data['sludge disposal'][key])\n",
    "\n",
    "      \n",
    "    percentage_list = []\n",
    "    for item in range(len(path_list)):\n",
    "        percentage_list.append(path_list[item] / path_sum)\n",
    "    \n",
    "    return(percentage_list)"
   ]
  },
  {
   "cell_type": "markdown",
   "id": "66cb58c9",
   "metadata": {},
   "source": [
    "P recycling: agriculture, humification, mono-incineration<br>\n",
    "No P recycling: landscaping, co-incineration, landfilling, recultivation"
   ]
  },
  {
   "cell_type": "markdown",
   "id": "0d99caba",
   "metadata": {},
   "source": [
    "Deploy function"
   ]
  },
  {
   "cell_type": "code",
   "execution_count": 28,
   "id": "4c273c1f",
   "metadata": {},
   "outputs": [],
   "source": [
    "disposal_list = disposal_path_percentage_calc(wwtp_data['sludge disposal'])"
   ]
  },
  {
   "cell_type": "markdown",
   "id": "22d95b65",
   "metadata": {},
   "source": [
    "Calculate percentage of sewage sludge to P recycling paths (agriculture, humification, mono-incineration)"
   ]
  },
  {
   "cell_type": "code",
   "execution_count": 30,
   "id": "d2cada39",
   "metadata": {},
   "outputs": [],
   "source": [
    "recycle = (disposal_list[0] + disposal_list[2] + disposal_list[5]) * 100\n",
    "e = recycle"
   ]
  },
  {
   "cell_type": "markdown",
   "id": "a1d9f5c8",
   "metadata": {},
   "source": [
    "Show value of **E** [%]"
   ]
  },
  {
   "cell_type": "code",
   "execution_count": 3,
   "id": "1cb1bcbd",
   "metadata": {},
   "outputs": [],
   "source": [
    "e"
   ]
  },
  {
   "cell_type": "markdown",
   "id": "5d824ce1",
   "metadata": {},
   "source": [
    "**R2 risk of heavy rainfall**"
   ]
  },
  {
   "cell_type": "markdown",
   "id": "a6d75271",
   "metadata": {},
   "source": [
    "List with considered years (here: 2007 - 2016)"
   ]
  },
  {
   "cell_type": "code",
   "execution_count": 3,
   "id": "a47af219",
   "metadata": {},
   "outputs": [],
   "source": [
    "years = [2007, 2008, 2009, 2010, 2011, 2012, 2013, 2014, 2015, 2016]"
   ]
  },
  {
   "cell_type": "markdown",
   "id": "93cb7c77",
   "metadata": {},
   "source": [
    "**grid data**"
   ]
  },
  {
   "cell_type": "markdown",
   "id": "bd69443c",
   "metadata": {},
   "source": [
    "Example data [1] from CDC (Germany)"
   ]
  },
  {
   "cell_type": "markdown",
   "id": "18f76793",
   "metadata": {},
   "source": [
    "[1] Weather data obtained from: Deutscher Wetterdienst<br>\n",
    "DWD Climate Data Center (CDC): \n",
    "Annual grids of number of days with precipitation >= 30 mm, Version v19.3.<br>\n",
    "https://cdc.dwd.de/portal/ (accessed 03.11.2020)<br>"
   ]
  },
  {
   "cell_type": "markdown",
   "id": "c79c05f6",
   "metadata": {},
   "source": [
    "For each year:<br>\n",
    "Click on wanted location in map and select item<br>\n",
    "Download data as MS Excel [2] and save in folder named \"weather_data\"<br>\n",
    "File name must match the name given in path (see below)"
   ]
  },
  {
   "cell_type": "code",
   "execution_count": 46,
   "id": "ec92b807",
   "metadata": {},
   "outputs": [],
   "source": [
    "days = 0\n",
    "\n",
    "#loop over 10 years\n",
    "for year in years:\n",
    "    #open each file containing wather data of one year\n",
    "    path = 'weather_data//{} GRD_DEU_P1Y_RR_GE30-.xlsx'.format(year)\n",
    "    #write to DataFrame\n",
    "    grid = pd.read_excel(path, 'GRD_DEU_API.GET_FEATURE_INFO_BY')\n",
    "    \n",
    "    #sum of number of days with >= 30 mm precipitation in years 2007 - 2016\n",
    "    days = days + grid.iloc[0, 5]"
   ]
  },
  {
   "cell_type": "markdown",
   "id": "3147f3bf",
   "metadata": {},
   "source": [
    "**station data**"
   ]
  },
  {
   "cell_type": "markdown",
   "id": "387d0bcb",
   "metadata": {},
   "source": [
    "Example data [3] from <br>\n",
    "[3] CHMI Český hydrometeorologický ústav:<br>\n",
    "Denní data dle zákona 123/1998 Sb. Denní úhrn srážek<br>\n",
    "https://www.chmi.cz/historicka-data/pocasi/denni-data/Denni-data-dle-z.-123-1998-Sb# (accessed 25.01.2021)"
   ]
  },
  {
   "cell_type": "markdown",
   "id": "2c2b04e3",
   "metadata": {},
   "source": [
    "Download daily precipitation data from weather station nearest to wanted location and save as MS Excel [2] in folder \"weather_data\"<br>\n",
    "Write **path** and **sheetname** in respective variables"
   ]
  },
  {
   "cell_type": "markdown",
   "id": "5a1a62bc",
   "metadata": {},
   "source": [
    "Write weather data in DataFrame and extract weather data"
   ]
  },
  {
   "cell_type": "code",
   "execution_count": 4,
   "id": "abfe714f",
   "metadata": {},
   "outputs": [],
   "source": [
    "path = 'weather_data//filename.xlsx'\n",
    "sheetname = 'sheetname'\n",
    "station_raw = pd.read_excel(path, sheetname)\n",
    "\n",
    "end = station_raw.shape[0]\n",
    "\n",
    "for i in range(40):\n",
    "    if station_raw.iloc[i, 0] == 'Rok':\n",
    "        start = i + 1\n",
    "\n",
    "        station = station_raw.iloc[start:end, 0:4]"
   ]
  },
  {
   "cell_type": "markdown",
   "id": "c471af3d",
   "metadata": {},
   "source": [
    "Get weather data from ten years (2007 - 2016)"
   ]
  },
  {
   "cell_type": "code",
   "execution_count": 5,
   "id": "ba6fa665",
   "metadata": {},
   "outputs": [],
   "source": [
    "days = 0\n",
    "for i in range(10):\n",
    "    for row in range(end):\n",
    "        if station.iloc[row, 0] < 2007:\n",
    "            continue\n",
    "        \n",
    "        elif station.iloc[row, 0] > 2016:\n",
    "            break\n",
    "        \n",
    "        elif station.iloc[row, 0] == years[i]:\n",
    "            if station.iloc[row, 3] >= 30:\n",
    "                    days = days + 1"
   ]
  },
  {
   "cell_type": "markdown",
   "id": "853c492d",
   "metadata": {},
   "source": [
    "[2] Microsoft Corporation: Microsoft Excel. 2018"
   ]
  },
  {
   "cell_type": "markdown",
   "id": "8f62bc6b",
   "metadata": {},
   "source": [
    "**At this point, the same method is applied regardless of wether grid or station data is available**"
   ]
  },
  {
   "cell_type": "markdown",
   "id": "6b133ae8",
   "metadata": {},
   "source": [
    "Number of days with >= 30 mm precipitation in years 2007 - 2016"
   ]
  },
  {
   "cell_type": "code",
   "execution_count": 4,
   "id": "572cd22a",
   "metadata": {},
   "outputs": [],
   "source": [
    "days"
   ]
  },
  {
   "cell_type": "markdown",
   "id": "b9a41dad",
   "metadata": {},
   "source": [
    "M: mean value of days with >= 30 mm precipitation in years 2007 - 2016"
   ]
  },
  {
   "cell_type": "code",
   "execution_count": 6,
   "id": "65c11b0c",
   "metadata": {},
   "outputs": [],
   "source": [
    "M = days / 10"
   ]
  },
  {
   "cell_type": "markdown",
   "id": "f725c29a",
   "metadata": {},
   "source": [
    "Assign R2 according to M"
   ]
  },
  {
   "cell_type": "code",
   "execution_count": 23,
   "id": "916180f2",
   "metadata": {},
   "outputs": [],
   "source": [
    "if M < 1 and M >= 0:\n",
    "    R2 = 0\n",
    "elif M >= 1 and M < 2:\n",
    "    R2 = 1\n",
    "elif M >= 2 and M < 3:\n",
    "    R2 = 2\n",
    "elif M >= 3 and M < 4:\n",
    "    R2 = 3\n",
    "elif M >= 4:\n",
    "    R2 = 4"
   ]
  },
  {
   "cell_type": "markdown",
   "id": "83b08959",
   "metadata": {},
   "source": [
    "Unify R2 >> percent"
   ]
  },
  {
   "cell_type": "code",
   "execution_count": 26,
   "id": "749089a6",
   "metadata": {},
   "outputs": [],
   "source": [
    "if R2 == 0:\n",
    "    r2 = 100\n",
    "elif R2 == 1:\n",
    "    r2 = 75\n",
    "elif R2 == 2:\n",
    "    r2 = 50\n",
    "elif R2 == 3:\n",
    "    r2 = 25\n",
    "elif R2 == 4:\n",
    "    r2 = 0"
   ]
  },
  {
   "cell_type": "markdown",
   "id": "c6510bea",
   "metadata": {},
   "source": [
    "Show value of **R2** [%]"
   ]
  },
  {
   "cell_type": "code",
   "execution_count": 30,
   "id": "d435d056",
   "metadata": {},
   "outputs": [],
   "source": [
    "r2"
   ]
  },
  {
   "cell_type": "markdown",
   "id": "766f4f54",
   "metadata": {},
   "source": [
    "**C Compliance with wastewater regulation**"
   ]
  },
  {
   "cell_type": "markdown",
   "id": "0b451e64",
   "metadata": {},
   "source": [
    "This approach is sligthly altered and cosiders only the wastewater regulation [4] of one country (here Germany)"
   ]
  },
  {
   "cell_type": "markdown",
   "id": "3807c2e5",
   "metadata": {},
   "source": [
    "Function: permitted BOD and COD effluent values according to size of WWTP [4]"
   ]
  },
  {
   "cell_type": "code",
   "execution_count": 67,
   "id": "32bbde2f",
   "metadata": {},
   "outputs": [],
   "source": [
    "def get_permitted_value(data_dict):\n",
    "    \n",
    "    size = data_dict['plant']['size']['value']\n",
    "    \n",
    "    if size < 1000:\n",
    "        permitted_BOD = 40\n",
    "        permitted_COD = 150\n",
    "    \n",
    "    if size >= 1000 and size <= 5000:\n",
    "        permitted_BOD = 25\n",
    "        permitted_COD = 110\n",
    "        \n",
    "    if size > 5000 and size <= 10000:\n",
    "        permitted_BOD = 20\n",
    "        permitted_COD = 90\n",
    "    \n",
    "    if size > 10000 and size <= 100000:\n",
    "        permitted_BOD = 20\n",
    "        permitted_COD = 90\n",
    "    \n",
    "    \n",
    "    return permitted_COD, permitted_BOD"
   ]
  },
  {
   "cell_type": "markdown",
   "id": "9044bca1",
   "metadata": {},
   "source": [
    "[4] Deutscher Bundestag: Abwasserverordnung in Der Fassung Der Bekanntmachung\n",
    "Vom 17. Juni 2004 (BGBl. I S. 1108, 2625), Die Zuletzt Durch Artikel\n",
    "1 Der Verordnung Vom 16. Juni 2020 (BGBl. I S. 1287) Geändert Worden\n",
    "Ist: AbwV. März 1997"
   ]
  },
  {
   "cell_type": "markdown",
   "id": "9f51da8a",
   "metadata": {},
   "source": [
    "Deploy function"
   ]
  },
  {
   "cell_type": "code",
   "execution_count": 68,
   "id": "a46634cc",
   "metadata": {},
   "outputs": [],
   "source": [
    "permitted_cod, permitted_bod = get_permitted_value(wwtp_data)"
   ]
  },
  {
   "cell_type": "markdown",
   "id": "37184372",
   "metadata": {},
   "source": [
    "Get measured effluent values and compare them to regulation<br>\n",
    "Give warning if regulation is not met"
   ]
  },
  {
   "cell_type": "code",
   "execution_count": 72,
   "id": "68a87cd0",
   "metadata": {},
   "outputs": [],
   "source": [
    "measured_cod = wwtp_data['effluent']['COD']\n",
    "measured_bod = wwtp_data['effluent']['BOD']\n",
    "\n",
    "C2_cod = permitted_cod - measured_cod\n",
    "C2_bod = permitted_bod - measured_bod\n",
    "\n",
    "if C2_cod < 0:\n",
    "    print('Warning: COD value exceeded')\n",
    "    \n",
    "if C2_bod < 0:\n",
    "    print('Warning: BOD value exceeded')"
   ]
  },
  {
   "cell_type": "markdown",
   "id": "14ce9a05",
   "metadata": {},
   "source": [
    "Unify C2 >> percent"
   ]
  },
  {
   "cell_type": "code",
   "execution_count": 73,
   "id": "31915900",
   "metadata": {},
   "outputs": [],
   "source": [
    "c2_cod = C2_cod / permitted_cod * 100\n",
    "c2_bod = C2_bod / permitted_bod * 100"
   ]
  },
  {
   "cell_type": "markdown",
   "id": "719530a2",
   "metadata": {},
   "source": [
    "Show value of **C** [%] for COD and BOD"
   ]
  },
  {
   "cell_type": "code",
   "execution_count": 78,
   "id": "5918712f",
   "metadata": {},
   "outputs": [],
   "source": [
    "c2_cod"
   ]
  },
  {
   "cell_type": "code",
   "execution_count": 79,
   "id": "381f2583",
   "metadata": {},
   "outputs": [],
   "source": [
    "c2_bod"
   ]
  }
 ],
 "metadata": {
  "kernelspec": {
   "display_name": "Python (osmnx jupyter notebook)",
   "language": "python",
   "name": "base-osmnx-jupyter-notebook"
  },
  "language_info": {
   "codemirror_mode": {
    "name": "ipython",
    "version": 3
   },
   "file_extension": ".py",
   "mimetype": "text/x-python",
   "name": "python",
   "nbconvert_exporter": "python",
   "pygments_lexer": "ipython3",
   "version": "3.10.5"
  }
 },
 "nbformat": 4,
 "nbformat_minor": 5
}
